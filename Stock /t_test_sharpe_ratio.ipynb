{
 "cells": [
  {
   "cell_type": "markdown",
   "id": "ffdf57b4-6e9f-4724-a575-1d328b6b4584",
   "metadata": {},
   "source": [
    "# Stock Hypothesis Test / Sharpe Ratio"
   ]
  },
  {
   "cell_type": "code",
   "execution_count": 51,
   "id": "12c4cb62-d485-40e2-9908-1f314e892d75",
   "metadata": {},
   "outputs": [],
   "source": [
    "import pandas_datareader.data as web\n",
    "import pandas as pd\n",
    "import datetime\n",
    "import tweepy\n",
    "from textblob import TextBlob\n",
    "import re\n",
    "import numpy as np\n",
    "from matplotlib import pyplot as plt\n",
    "from pandas.plotting import scatter_matrix\n",
    "from mpl_finance import candlestick_ohlc\n",
    "from matplotlib.dates import DateFormatter, date2num, WeekdayLocator, DayLocator, MONDAY\n",
    "import yfinance as yf"
   ]
  },
  {
   "cell_type": "code",
   "execution_count": 142,
   "id": "b355abe3-e9d6-483a-b8a3-b976fb3ce3e1",
   "metadata": {},
   "outputs": [
    {
     "name": "stdin",
     "output_type": "stream",
     "text": [
      " MMM\n",
      " DIS\n"
     ]
    },
    {
     "name": "stdout",
     "output_type": "stream",
     "text": [
      "[*********************100%***********************]  1 of 1 completed\n",
      "[*********************100%***********************]  1 of 1 completed\n",
      "MMM 's monthly average return is:  -0.008763112211672324\n",
      "DIS 's monthly average return is:  0.004478546717814505\n"
     ]
    }
   ],
   "source": [
    "a = str(input())\n",
    "b = str(input())\n",
    "start = today - datetime.timedelta(days=365*5)\n",
    "today = datetime.datetime.strptime(datetime.datetime.now().strftime('%Y-%m-%d'), '%Y-%m-%d')\n",
    "stock1 = yf.download(a, start, today)\n",
    "stock2 = yf.download(b, start, today)\n",
    "#Resampling to get the average percentage return \n",
    "monthly1 = stock1.resample('M').ffill().pct_change()\n",
    "monthly2 = stock2.resample('M').ffill().pct_change()\n",
    "#Printing out the mean monthly returns\n",
    "print( a , \"'s monthly average return is: \",monthly1.Open.mean())\n",
    "print( b , \"'s monthly average return is: \",monthly2.Open.mean())"
   ]
  },
  {
   "cell_type": "code",
   "execution_count": 143,
   "id": "df8dc7f6-982b-4fea-817d-b93a6652170c",
   "metadata": {},
   "outputs": [
    {
     "data": {
      "image/png": "[encoded data removed]",
      "text/plain": [
       "<Figure size 432x288 with 1 Axes>"
      ]
     },
     "metadata": {
      "needs_background": "light"
     },
     "output_type": "display_data"
    }
   ],
   "source": [
    "import matplotlib.pyplot as plt\n",
    "plt.hist(stock1['Open'], bins=50, alpha=0.5, label=a)\n",
    "plt.hist(stock2['Open'], bins=50, alpha=0.5, label=b)\n",
    "plt.title('Monthly Percentage Returns')\n",
    "plt.xlabel('Percentage Return')\n",
    "plt.ylabel('Frequency')\n",
    "plt.legend()\n",
    "plt.show()"
   ]
  },
  {
   "cell_type": "code",
   "execution_count": 146,
   "id": "2ed90c65-70c7-4d97-9839-9a581bddec11",
   "metadata": {},
   "outputs": [
    {
     "name": "stdout",
     "output_type": "stream",
     "text": [
      "Standard Deviation of  MMM  is:  0.06464562014106079\n",
      "Sharpe ratio for  MMM  is:  -0.1355561628545084\n",
      "Standard Deviation of  DIS  is:  0.09992228301982102\n",
      "Sharpe ratio for  DIS  is:  0.04482030016193806\n",
      "Fail to reject the null hypothesis. The mean monthly returns of  MMM  and  DIS are equal.\n"
     ]
    }
   ],
   "source": [
    "import statistics\n",
    "print(\"Standard Deviation of \", a ,\" is: \", statistics.stdev(monthly1.Open.dropna()))\n",
    "print(\"Sharpe ratio for \", a ,\" is: \", monthly1.Open.dropna().mean()/statistics.stdev(monthly1.Open.dropna()))\n",
    "print(\"Standard Deviation of \", b ,\" is: \", statistics.stdev(monthly2.Open.dropna()))\n",
    "print(\"Sharpe ratio for \", b ,\" is: \", monthly2.Open.dropna().mean()/statistics.stdev(monthly2.Open.dropna()))\n",
    "\n",
    "import pandas as pd\n",
    "from scipy.stats import ttest_ind\n",
    "\n",
    "# Calculate t-statistic and p-value\n",
    "t_stat, p_val = ttest_ind(monthly1['Open'].dropna(), monthly2['Open'].dropna(), equal_var=False)\n",
    "\n",
    "# Check if the p-value is less than the significance level\n",
    "if p_val < 0.05:\n",
    "    print('Reject the null hypothesis. The mean monthly returns of ' ,a , ' and ' ,b , ' are not equal.')\n",
    "else:\n",
    "    print('Fail to reject the null hypothesis. The mean monthly returns of ' ,a , ' and ' ,b , 'are equal.')"
   ]
  }
 ],
 "metadata": {
  "kernelspec": {
   "display_name": "Python 3 (ipykernel)",
   "language": "python",
   "name": "python3"
  },
  "language_info": {
   "codemirror_mode": {
    "name": "ipython",
    "version": 3
   },
   "file_extension": ".py",
   "mimetype": "text/x-python",
   "name": "python",
   "nbconvert_exporter": "python",
   "pygments_lexer": "ipython3",
   "version": "3.9.12"
  }
 },
 "nbformat": 4,
 "nbformat_minor": 5
}
