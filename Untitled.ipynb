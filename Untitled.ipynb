{
 "cells": [
  {
   "cell_type": "code",
   "execution_count": 1,
   "id": "4fd36326-1670-4fd6-ad70-55596cb72d10",
   "metadata": {},
   "outputs": [
    {
     "name": "stdout",
     "output_type": "stream",
     "text": [
      "Lesson Completion Rates:\n",
      "[('NumPy', 100), ('SciPy', 100), ('Pandas', 96), ('Matplotlib', 0), ('Seaborn', 0), ('scikit-learn', 0)]\n",
      "\n",
      "\n"
     ]
    }
   ],
   "source": [
    "libraries = [\"NumPy\", \"SciPy\", \"Pandas\", \"Matplotlib\", \"Seaborn\"]\n",
    "completion = [100, 100, 96, 0, 0]\n",
    "\n",
    "libraries.append(\"scikit-learn\")\n",
    "completion.append(0)\n",
    "\n",
    "gradebook = list(zip(libraries, completion))\n",
    "\n",
    "print(\"Lesson Completion Rates:\")\n",
    "print(gradebook)\n",
    "print(\"\\n\")\n"
   ]
  },
  {
   "cell_type": "code",
   "execution_count": 4,
   "id": "e313dcd2-d33b-44ab-982e-9c5da6cbe1e6",
   "metadata": {},
   "outputs": [
    {
     "data": {
      "image/png": "[encoded data removed]",
      "text/plain": [
       "<Figure size 432x288 with 1 Axes>"
      ]
     },
     "metadata": {
      "needs_background": "light"
     },
     "output_type": "display_data"
    }
   ],
   "source": [
    "import pandas as pd\n",
    "import matplotlib.pyplot as plt\n",
    "hour = range(24)\n",
    "\n",
    "viewers_hour = [30, 17, 34, 29, 19, 14, 3, 2, 4, 9, 5, 48, 62, 58, 40, 51, 69, 55, 76, 81, 102, 120, 71, 63]\n",
    "\n",
    "plt.title(\"Time Series \")\n",
    "\n",
    "plt.xlabel(\"Hour\")\n",
    "plt.ylabel(\"Viewers\")\n",
    "\n",
    "plt.plot(hour, viewers_hour)\n",
    "\n",
    "plt.legend(['2015-01-01'])\n",
    "\n",
    "ax = plt.subplot()\n",
    "\n",
    "ax.set_facecolor('seashell')\n",
    "\n",
    "ax.set_xticks(hour)\n",
    "ax.set_yticks([0, 20, 40, 60, 80, 100, 120])\n",
    "\n",
    "y_upper = [i + (i*0.15) for i in viewers_hour]\n",
    "y_lower = [i - (i*0.15) for i in viewers_hour]\n",
    "\n",
    "plt.fill_between(hour, y_lower, y_upper, alpha=0.2)\n",
    "\n",
    "# Add the code here:\n",
    "plt.show()\n"
   ]
  },
  {
   "cell_type": "code",
   "execution_count": 7,
   "id": "49e18d72-9867-4909-b91d-1d753e67f608",
   "metadata": {},
   "outputs": [
    {
     "ename": "ModuleNotFoundError",
     "evalue": "No module named 'simulate'",
     "output_type": "error",
     "traceback": [
      "\u001b[0;31m---------------------------------------------------------------------------\u001b[0m",
      "\u001b[0;31mModuleNotFoundError\u001b[0m                       Traceback (most recent call last)",
      "Input \u001b[0;32mIn [7]\u001b[0m, in \u001b[0;36m<cell line: 1>\u001b[0;34m()\u001b[0m\n\u001b[0;32m----> 1\u001b[0m \u001b[38;5;28;01mfrom\u001b[39;00m \u001b[38;5;21;01msimulate\u001b[39;00m \u001b[38;5;28;01mimport\u001b[39;00m simulate\n\u001b[1;32m      3\u001b[0m num_people_in_room \u001b[38;5;241m=\u001b[39m \u001b[38;5;241m2\u001b[39m \u001b[38;5;66;03m#Change This Number (keep it smaller than 100 to save processing power)\u001b[39;00m\n\u001b[1;32m      5\u001b[0m simulate(num_people_in_room)\n",
      "\u001b[0;31mModuleNotFoundError\u001b[0m: No module named 'simulate'"
     ]
    }
   ],
   "source": [
    "from simulate import simulate\n",
    "\n",
    "num_people_in_room = 2 #Change This Number (keep it smaller than 100 to save processing power)\n",
    "\n",
    "simulate(num_people_in_room) "
   ]
  },
  {
   "cell_type": "code",
   "execution_count": 8,
   "id": "43ba9422-a524-4ba5-bc01-0cf62ccb18a9",
   "metadata": {},
   "outputs": [
    {
     "ename": "ImportError",
     "evalue": "cannot import name 'predict' from 'code' (/Users/tylerbrown/opt/anaconda3/lib/python3.9/code.py)",
     "output_type": "error",
     "traceback": [
      "\u001b[0;31m---------------------------------------------------------------------------\u001b[0m",
      "\u001b[0;31mImportError\u001b[0m                               Traceback (most recent call last)",
      "Input \u001b[0;32mIn [8]\u001b[0m, in \u001b[0;36m<cell line: 5>\u001b[0;34m()\u001b[0m\n\u001b[1;32m      2\u001b[0m mystery_penguin_bill \u001b[38;5;241m=\u001b[39m \u001b[38;5;241m35\u001b[39m\n\u001b[1;32m      4\u001b[0m \u001b[38;5;66;03m# The model will use those values and the dataset to predict a species\u001b[39;00m\n\u001b[0;32m----> 5\u001b[0m \u001b[38;5;28;01mfrom\u001b[39;00m \u001b[38;5;21;01mcode\u001b[39;00m \u001b[38;5;28;01mimport\u001b[39;00m predict\n\u001b[1;32m      6\u001b[0m predict(mystery_penguin_flipper,mystery_penguin_bill)\n",
      "\u001b[0;31mImportError\u001b[0m: cannot import name 'predict' from 'code' (/Users/tylerbrown/opt/anaconda3/lib/python3.9/code.py)"
     ]
    }
   ],
   "source": [
    "mystery_penguin_flipper = 180\n",
    "mystery_penguin_bill = 35\n",
    "\n",
    "# The model will use those values and the dataset to predict a species\n",
    "from code import predict\n",
    "predict(mystery_penguin_flipper,mystery_penguin_bill)\n"
   ]
  },
  {
   "cell_type": "code",
   "execution_count": 9,
   "id": "c1f6ee88-22cd-49bd-b0ea-a6bc0c2072fc",
   "metadata": {},
   "outputs": [
    {
     "name": "stdout",
     "output_type": "stream",
     "text": [
      "Collecting predict\n",
      "  Downloading PREDICT-3.1.16-py3-none-any.whl (57 kB)\n",
      "\u001b[K     |████████████████████████████████| 57 kB 1.2 MB/s eta 0:00:011\n",
      "\u001b[?25hCollecting natsort>=5.0.1\n",
      "  Downloading natsort-8.3.1-py3-none-any.whl (38 kB)\n",
      "Requirement already satisfied: numpy>=1.16.3 in /Users/tylerbrown/opt/anaconda3/lib/python3.9/site-packages (from predict) (1.24.2)\n",
      "Requirement already satisfied: pandas>=0.24.2 in /Users/tylerbrown/opt/anaconda3/lib/python3.9/site-packages (from predict) (1.5.3)\n",
      "Requirement already satisfied: joblib>=0.10.2 in /Users/tylerbrown/opt/anaconda3/lib/python3.9/site-packages (from predict) (1.1.0)\n",
      "Collecting SimpleITK>=1.2.0\n",
      "  Downloading SimpleITK-2.2.1-cp39-cp39-macosx_10_9_x86_64.whl (45.5 MB)\n",
      "\u001b[K     |████████████████████████████████| 45.5 MB 4.1 MB/s eta 0:00:012\n",
      "\u001b[?25hCollecting PyWavelets<=1.0.0,>=0.4.0\n",
      "  Downloading PyWavelets-0.5.2.tar.gz (4.4 MB)\n",
      "\u001b[K     |████████████████████████████████| 4.4 MB 20.7 MB/s eta 0:00:01\n",
      "\u001b[?25hCollecting scikit-image<=0.16.2\n",
      "  Downloading scikit-image-0.16.2.tar.gz (28.9 MB)\n",
      "\u001b[K     |████████████████████████████████| 28.9 MB 14.8 MB/s eta 0:00:01     |███████████████████▍            | 17.6 MB 14.8 MB/s eta 0:00:01\n",
      "\u001b[?25hRequirement already satisfied: tables>=3.5.1 in /Users/tylerbrown/opt/anaconda3/lib/python3.9/site-packages (from predict) (3.6.1)\n",
      "Collecting pydicom>=1.2.2\n",
      "  Downloading pydicom-2.3.1-py3-none-any.whl (2.0 MB)\n",
      "\u001b[K     |████████████████████████████████| 2.0 MB 25.9 MB/s eta 0:00:01\n",
      "\u001b[?25hCollecting configparser>=3.7.4\n",
      "  Downloading configparser-5.3.0-py3-none-any.whl (19 kB)\n",
      "Requirement already satisfied: scipy>=1.2.1 in /Users/tylerbrown/opt/anaconda3/lib/python3.9/site-packages (from predict) (1.10.1)\n",
      "Collecting phasepack>=1.5\n",
      "  Downloading phasepack-1.5.tar.gz (15 kB)\n",
      "Collecting pyradiomics>=3.0\n",
      "  Downloading pyradiomics-3.0.1.tar.gz (34.5 MB)\n",
      "\u001b[K     |████████████████████████████████| 34.5 MB 26.1 MB/s eta 0:00:01\n",
      "\u001b[?25hRequirement already satisfied: pytz>=2020.1 in /Users/tylerbrown/opt/anaconda3/lib/python3.9/site-packages (from pandas>=0.24.2->predict) (2021.3)\n",
      "Requirement already satisfied: python-dateutil>=2.8.1 in /Users/tylerbrown/opt/anaconda3/lib/python3.9/site-packages (from pandas>=0.24.2->predict) (2.8.2)\n",
      "Collecting pykwalify>=1.6.0\n",
      "  Downloading pykwalify-1.8.0-py2.py3-none-any.whl (24 kB)\n",
      "Requirement already satisfied: six>=1.10.0 in /Users/tylerbrown/opt/anaconda3/lib/python3.9/site-packages (from pyradiomics>=3.0->predict) (1.16.0)\n",
      "Requirement already satisfied: ruamel.yaml>=0.16.0 in /Users/tylerbrown/opt/anaconda3/lib/python3.9/site-packages (from pykwalify>=1.6.0->pyradiomics>=3.0->predict) (0.17.21)\n",
      "Collecting docopt>=0.6.2\n",
      "  Downloading docopt-0.6.2.tar.gz (25 kB)\n",
      "Requirement already satisfied: ruamel.yaml.clib>=0.2.6 in /Users/tylerbrown/opt/anaconda3/lib/python3.9/site-packages (from ruamel.yaml>=0.16.0->pykwalify>=1.6.0->pyradiomics>=3.0->predict) (0.2.7)\n",
      "Requirement already satisfied: networkx>=2.0 in /Users/tylerbrown/opt/anaconda3/lib/python3.9/site-packages (from scikit-image<=0.16.2->predict) (3.0)\n",
      "Requirement already satisfied: pillow>=4.3.0 in /Users/tylerbrown/opt/anaconda3/lib/python3.9/site-packages (from scikit-image<=0.16.2->predict) (9.0.1)\n",
      "Requirement already satisfied: imageio>=2.3.0 in /Users/tylerbrown/opt/anaconda3/lib/python3.9/site-packages (from scikit-image<=0.16.2->predict) (2.9.0)\n",
      "Requirement already satisfied: numexpr>=2.6.2 in /Users/tylerbrown/opt/anaconda3/lib/python3.9/site-packages (from tables>=3.5.1->predict) (2.8.1)\n",
      "Requirement already satisfied: packaging in /Users/tylerbrown/opt/anaconda3/lib/python3.9/site-packages (from numexpr>=2.6.2->tables>=3.5.1->predict) (20.9)\n",
      "Requirement already satisfied: pyparsing>=2.0.2 in /Users/tylerbrown/opt/anaconda3/lib/python3.9/site-packages (from packaging->numexpr>=2.6.2->tables>=3.5.1->predict) (2.4.7)\n",
      "Building wheels for collected packages: phasepack, pyradiomics, docopt, PyWavelets, scikit-image\n",
      "  Building wheel for phasepack (setup.py) ... \u001b[?25ldone\n",
      "\u001b[?25h  Created wheel for phasepack: filename=phasepack-1.5-py3-none-any.whl size=26984 sha256=5a5ce4b2740c9640e5f1a2c44fbbb12b754531dbb799d9a8fe3b683c504af421\n",
      "  Stored in directory: /Users/tylerbrown/Library/Caches/pip/wheels/a0/cd/22/acdeec70f562ae574ad93d9b3254922dddc630e987f6e3c4ff\n",
      "  Building wheel for pyradiomics (setup.py) ... \u001b[?25ldone\n",
      "\u001b[?25h  Created wheel for pyradiomics: filename=pyradiomics-3.0.1-cp39-cp39-macosx_10_9_x86_64.whl size=115070 sha256=89b8abb6997f595a1b3772004be392d3ff74f7be5bbe99f74ec08511eaaceccf\n",
      "  Stored in directory: /Users/tylerbrown/Library/Caches/pip/wheels/62/0f/06/e8bdcc276fc814981e11a2fc4da7ad0da0a7e68a60fe90e747\n",
      "  Building wheel for docopt (setup.py) ... \u001b[?25ldone\n",
      "\u001b[?25h  Created wheel for docopt: filename=docopt-0.6.2-py2.py3-none-any.whl size=13723 sha256=9b3df6cb4316e8a2a9dbf3a45ee84eb2cc51e881293bc96261fca51e1d84a07f\n",
      "  Stored in directory: /Users/tylerbrown/Library/Caches/pip/wheels/70/4a/46/1309fc853b8d395e60bafaf1b6df7845bdd82c95fd59dd8d2b\n",
      "  Building wheel for PyWavelets (setup.py) ... \u001b[?25ldone\n",
      "\u001b[?25h  Created wheel for PyWavelets: filename=PyWavelets-0.5.2-cp39-cp39-macosx_10_9_x86_64.whl size=4200772 sha256=2adde9244368b8f424244d727d599d66760cfe9b8ede32aef9b9c72d4c302d01\n",
      "  Stored in directory: /Users/tylerbrown/Library/Caches/pip/wheels/0a/e7/66/193702783b4e1f57d6e9228146dac8b446ec7819ab0fac1d77\n",
      "  Building wheel for scikit-image (setup.py) ... \u001b[?25ldone\n",
      "\u001b[?25h  Created wheel for scikit-image: filename=scikit_image-0.16.2-cp39-cp39-macosx_12_0_x86_64.whl size=25692039 sha256=c09c87789ba51ce2a03950bac8b5ade632ebb6482503057e3a7b8e942b15f3f6\n",
      "  Stored in directory: /Users/tylerbrown/Library/Caches/pip/wheels/fe/20/5c/23218d242dbd520f9997774bab1fb0526e29db47435debb3ba\n",
      "Successfully built phasepack pyradiomics docopt PyWavelets scikit-image\n",
      "\u001b[33mWARNING: Error parsing requirements for pydantic: [Errno 2] No such file or directory: '/Users/tylerbrown/opt/anaconda3/lib/python3.9/site-packages/pydantic-1.9.2.dist-info/METADATA'\u001b[0m\n",
      "\u001b[33mWARNING: Error parsing requirements for panel: [Errno 2] No such file or directory: '/Users/tylerbrown/opt/anaconda3/lib/python3.9/site-packages/panel-0.13.0.dist-info/METADATA'\u001b[0m\n",
      "Installing collected packages: docopt, SimpleITK, PyWavelets, pykwalify, scikit-image, pyradiomics, pydicom, phasepack, natsort, configparser, predict\n",
      "  Attempting uninstall: PyWavelets\n",
      "    Found existing installation: PyWavelets 1.3.0\n",
      "    Uninstalling PyWavelets-1.3.0:\n",
      "      Successfully uninstalled PyWavelets-1.3.0\n",
      "  Attempting uninstall: scikit-image\n",
      "    Found existing installation: scikit-image 0.19.2\n",
      "    Uninstalling scikit-image-0.19.2:\n",
      "      Successfully uninstalled scikit-image-0.19.2\n",
      "Successfully installed PyWavelets-0.5.2 SimpleITK-2.2.1 configparser-5.3.0 docopt-0.6.2 natsort-8.3.1 phasepack-1.5 predict-3.1.16 pydicom-2.3.1 pykwalify-1.8.0 pyradiomics-3.0.1 scikit-image-0.16.2\n",
      "Note: you may need to restart the kernel to use updated packages.\n"
     ]
    }
   ],
   "source": [
    "pip install code"
   ]
  },
  {
   "cell_type": "code",
   "execution_count": null,
   "id": "e8d75f91-b2d2-4bd8-848b-e360ae695e18",
   "metadata": {},
   "outputs": [],
   "source": []
  }
 ],
 "metadata": {
  "kernelspec": {
   "display_name": "Python 3 (ipykernel)",
   "language": "python",
   "name": "python3"
  },
  "language_info": {
   "codemirror_mode": {
    "name": "ipython",
    "version": 3
   },
   "file_extension": ".py",
   "mimetype": "text/x-python",
   "name": "python",
   "nbconvert_exporter": "python",
   "pygments_lexer": "ipython3",
   "version": "3.9.12"
  }
 },
 "nbformat": 4,
 "nbformat_minor": 5
}
